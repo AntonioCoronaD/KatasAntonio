{
 "cells": [
  {
   "cell_type": "markdown",
   "metadata": {},
   "source": [
    "Listas en Python"
   ]
  },
  {
   "cell_type": "markdown",
   "metadata": {},
   "source": [
    "Ejercicio: Usar listas para almacenar nombres de planetas"
   ]
  },
  {
   "cell_type": "code",
   "execution_count": 2,
   "metadata": {},
   "outputs": [
    {
     "name": "stdout",
     "output_type": "stream",
     "text": [
      "Hay 8 planetas\n"
     ]
    }
   ],
   "source": [
    "# Lista planetas\n",
    "\n",
    "planetas = ['Mercurio', 'Venus', 'Tierra', 'Marte', 'Jupiter', 'Saturno', 'Urano', 'Nepturno']\n",
    "\n",
    "print('Hay', len(planetas), 'planetas')"
   ]
  },
  {
   "cell_type": "markdown",
   "metadata": {},
   "source": [
    "Agrega a Plutón a la lista que creaste. Luego muestra tanto el número de planetas como el último planeta de la lista."
   ]
  },
  {
   "cell_type": "code",
   "execution_count": 3,
   "metadata": {},
   "outputs": [
    {
     "name": "stdout",
     "output_type": "stream",
     "text": [
      "Plutón Es el último planeta en el sistema solar\n"
     ]
    }
   ],
   "source": [
    "planetas.append('Plutón')\n",
    "\n",
    "print(planetas[-1], 'Es el último planeta en el sistema solar')"
   ]
  },
  {
   "cell_type": "markdown",
   "metadata": {},
   "source": [
    "Ejercicio 2: Trabajando con datos de una lista"
   ]
  },
  {
   "cell_type": "code",
   "execution_count": null,
   "metadata": {},
   "outputs": [],
   "source": [
    "planetas = ['Mercurio', 'Venus', 'Tierra', 'Marte', 'Jupiter', 'Saturno', 'Urano', 'Nepturno']\n"
   ]
  },
  {
   "cell_type": "markdown",
   "metadata": {},
   "source": [
    "Solicita al usuario el nombre de un planeta\n"
   ]
  },
  {
   "cell_type": "code",
   "execution_count": 13,
   "metadata": {},
   "outputs": [
    {
     "name": "stdout",
     "output_type": "stream",
     "text": [
      "Los planetas más cercanos al sol de: Saturno\n",
      "['Mercurio', 'Venus', 'Tierra', 'Marte', 'Jupiter']\n",
      "Los planteas mas alejados al sol de: Saturno\n",
      "['Urano', 'Nepturno']\n"
     ]
    }
   ],
   "source": [
    "planetas = ['Mercurio', 'Venus', 'Tierra', 'Marte', 'Jupiter', 'Saturno', 'Urano', 'Nepturno']\n",
    "ingresa_planeta = input('Por favor, introduce el nombre del planeta (Siempre comienza con mayúscula)')\n",
    "\n",
    "# Busca el planeta en la lista\n",
    "planet_index = planetas.index(ingresa_planeta)\n",
    "\n",
    "#Mostrar planetas más cercanos al sol que el que el usuario ingresó\n",
    "print('Los planetas más cercanos al sol de: ' + ingresa_planeta)\n",
    "print(planetas[0:planet_index])\n",
    "# Muestra los planetas más lejanos al sol\n",
    "\n",
    "print('Los planteas mas alejados al sol de: ' + ingresa_planeta)\n",
    "print(planetas[planet_index + 1:])"
   ]
  }
 ],
 "metadata": {
  "interpreter": {
   "hash": "d35df7b5978006640fcee2d11bdf55c4c26792c7ab08406a9d192995e025ccf9"
  },
  "kernelspec": {
   "display_name": "Python 3.9.10 64-bit",
   "language": "python",
   "name": "python3"
  },
  "language_info": {
   "codemirror_mode": {
    "name": "ipython",
    "version": 3
   },
   "file_extension": ".py",
   "mimetype": "text/x-python",
   "name": "python",
   "nbconvert_exporter": "python",
   "pygments_lexer": "ipython3",
   "version": "3.9.10"
  },
  "orig_nbformat": 4
 },
 "nbformat": 4,
 "nbformat_minor": 2
}
